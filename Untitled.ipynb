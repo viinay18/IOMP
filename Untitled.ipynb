{
 "cells": [
  {
   "cell_type": "code",
   "execution_count": 7,
   "id": "621713de-2d60-43f8-8339-d47567eca5ec",
   "metadata": {},
   "outputs": [
    {
     "name": "stdout",
     "output_type": "stream",
     "text": [
      "<class 'pandas.core.frame.DataFrame'>\n",
      "RangeIndex: 9273 entries, 0 to 9272\n",
      "Data columns (total 9 columns):\n",
      " #   Column                Non-Null Count  Dtype \n",
      "---  ------                --------------  ----- \n",
      " 0   User_ID               9273 non-null   object\n",
      " 1   Age                   9273 non-null   int64 \n",
      " 2   Gender                9273 non-null   object\n",
      " 3   Income_Level          9273 non-null   object\n",
      " 4   Browsing_Time (mins)  9273 non-null   int64 \n",
      " 5   Discount (%)          9273 non-null   int64 \n",
      " 6   Coupon_Category       9273 non-null   object\n",
      " 7   Previous_Purchases    9273 non-null   int64 \n",
      " 8   Purchase_Intention    9273 non-null   int64 \n",
      "dtypes: int64(5), object(4)\n",
      "memory usage: 652.1+ KB\n"
     ]
    }
   ],
   "source": [
    "import pandas as pd\n",
    "\n",
    "df = pd.read_csv('coupon_purchase_intention_dataset.csv')\n",
    "\n",
    "df.info()"
   ]
  },
  {
   "cell_type": "code",
   "execution_count": 8,
   "id": "b6596e51-e8a8-4c40-a7ed-30489f8b9f38",
   "metadata": {},
   "outputs": [
    {
     "data": {
      "text/plain": [
       "0       0.0\n",
       "1       3.0\n",
       "2       4.0\n",
       "3       3.0\n",
       "4       4.0\n",
       "       ... \n",
       "9268    0.0\n",
       "9269    0.0\n",
       "9270    2.0\n",
       "9271    3.0\n",
       "9272    5.0\n",
       "Name: Coupon_Category, Length: 9273, dtype: float64"
      ]
     },
     "execution_count": 8,
     "metadata": {},
     "output_type": "execute_result"
    }
   ],
   "source": [
    "from sklearn.preprocessing import OrdinalEncoder\n",
    "\n",
    "encoder = OrdinalEncoder()\n",
    "\n",
    "df['Gender'] = encoder.fit_transform(df[['Gender']])\n",
    "df['Income_Level'] = encoder.fit_transform(df[['Income_Level']])\n",
    "df['Coupon_Category'] = encoder.fit_transform(df[['Coupon_Category']])\n",
    "/\n",
    "df['Gender'].nunique()\n",
    "\n",
    "df['Coupon_Category']"
   ]
  },
  {
   "cell_type": "code",
   "execution_count": 9,
   "id": "d51cc9bf-1c0c-418c-8f86-96bbb3fd743b",
   "metadata": {},
   "outputs": [
    {
     "data": {
      "text/plain": [
       "Purchase_Intention      1.000000\n",
       "Browsing_Time (mins)    0.349238\n",
       "Discount (%)            0.346511\n",
       "Previous_Purchases      0.322947\n",
       "Coupon_Category         0.014184\n",
       "Age                    -0.005929\n",
       "Income_Level           -0.006071\n",
       "Gender                 -0.006127\n",
       "Name: Purchase_Intention, dtype: float64"
      ]
     },
     "execution_count": 9,
     "metadata": {},
     "output_type": "execute_result"
    }
   ],
   "source": [
    "result = df[df.columns[1:]].corr()['Purchase_Intention']\n",
    "\n",
    "result.sort_values(ascending = False)"
   ]
  },
  {
   "cell_type": "code",
   "execution_count": 21,
   "id": "f78f30e3-0a90-4008-86d4-3b9ca8538e92",
   "metadata": {},
   "outputs": [
    {
     "name": "stdout",
     "output_type": "stream",
     "text": [
      "Index(['Age', 'Gender', 'Income_Level', 'Browsing_Time (mins)', 'Discount (%)',\n",
      "       'Coupon_Category', 'Previous_Purchases', 'Purchase_Intention'],\n",
      "      dtype='object')\n"
     ]
    },
    {
     "data": {
      "image/png": "[encoded data removed]",
      "text/plain": [
       "<Figure size 640x480 with 1 Axes>"
      ]
     },
     "metadata": {},
     "output_type": "display_data"
    }
   ],
   "source": [
    "from xgboost import XGBClassifier\n",
    "import matplotlib.pyplot as plt\n",
    "\n",
    "X  = df.iloc[:, 1:-1]\n",
    "y  = df.iloc[:, -1]\n",
    "\n",
    "model = XGBClassifier()\n",
    "\n",
    "model.fit(X, y)\n",
    "\n",
    "imp_features = model.feature_importances_\n",
    "\n",
    "print(df.columns[1:])\n",
    "\n",
    "plt.bar(range(len(imp_features)), imp_features)\n",
    "\n",
    "plt.show()"
   ]
  },
  {
   "cell_type": "code",
   "execution_count": 22,
   "id": "c35fd88e-c758-4e02-94f1-eaa668b58734",
   "metadata": {},
   "outputs": [
    {
     "data": {
      "text/html": [
       "<div>\n",
       "<style scoped>\n",
       "    .dataframe tbody tr th:only-of-type {\n",
       "        vertical-align: middle;\n",
       "    }\n",
       "\n",
       "    .dataframe tbody tr th {\n",
       "        vertical-align: top;\n",
       "    }\n",
       "\n",
       "    .dataframe thead th {\n",
       "        text-align: right;\n",
       "    }\n",
       "</style>\n",
       "<table border=\"1\" class=\"dataframe\">\n",
       "  <thead>\n",
       "    <tr style=\"text-align: right;\">\n",
       "      <th></th>\n",
       "      <th>Browsing_Time (mins)</th>\n",
       "      <th>Discount (%)</th>\n",
       "      <th>Previous_Purchases</th>\n",
       "      <th>Purchase_Intention</th>\n",
       "    </tr>\n",
       "  </thead>\n",
       "  <tbody>\n",
       "    <tr>\n",
       "      <th>0</th>\n",
       "      <td>20</td>\n",
       "      <td>60</td>\n",
       "      <td>1</td>\n",
       "      <td>1</td>\n",
       "    </tr>\n",
       "    <tr>\n",
       "      <th>1</th>\n",
       "      <td>1</td>\n",
       "      <td>60</td>\n",
       "      <td>9</td>\n",
       "      <td>1</td>\n",
       "    </tr>\n",
       "    <tr>\n",
       "      <th>2</th>\n",
       "      <td>5</td>\n",
       "      <td>30</td>\n",
       "      <td>3</td>\n",
       "      <td>0</td>\n",
       "    </tr>\n",
       "    <tr>\n",
       "      <th>3</th>\n",
       "      <td>17</td>\n",
       "      <td>10</td>\n",
       "      <td>6</td>\n",
       "      <td>1</td>\n",
       "    </tr>\n",
       "    <tr>\n",
       "      <th>4</th>\n",
       "      <td>19</td>\n",
       "      <td>70</td>\n",
       "      <td>3</td>\n",
       "      <td>1</td>\n",
       "    </tr>\n",
       "    <tr>\n",
       "      <th>...</th>\n",
       "      <td>...</td>\n",
       "      <td>...</td>\n",
       "      <td>...</td>\n",
       "      <td>...</td>\n",
       "    </tr>\n",
       "    <tr>\n",
       "      <th>9268</th>\n",
       "      <td>5</td>\n",
       "      <td>40</td>\n",
       "      <td>4</td>\n",
       "      <td>0</td>\n",
       "    </tr>\n",
       "    <tr>\n",
       "      <th>9269</th>\n",
       "      <td>29</td>\n",
       "      <td>70</td>\n",
       "      <td>0</td>\n",
       "      <td>1</td>\n",
       "    </tr>\n",
       "    <tr>\n",
       "      <th>9270</th>\n",
       "      <td>22</td>\n",
       "      <td>80</td>\n",
       "      <td>3</td>\n",
       "      <td>1</td>\n",
       "    </tr>\n",
       "    <tr>\n",
       "      <th>9271</th>\n",
       "      <td>7</td>\n",
       "      <td>30</td>\n",
       "      <td>9</td>\n",
       "      <td>1</td>\n",
       "    </tr>\n",
       "    <tr>\n",
       "      <th>9272</th>\n",
       "      <td>8</td>\n",
       "      <td>40</td>\n",
       "      <td>2</td>\n",
       "      <td>0</td>\n",
       "    </tr>\n",
       "  </tbody>\n",
       "</table>\n",
       "<p>9273 rows × 4 columns</p>\n",
       "</div>"
      ],
      "text/plain": [
       "      Browsing_Time (mins)  Discount (%)  Previous_Purchases  \\\n",
       "0                       20            60                   1   \n",
       "1                        1            60                   9   \n",
       "2                        5            30                   3   \n",
       "3                       17            10                   6   \n",
       "4                       19            70                   3   \n",
       "...                    ...           ...                 ...   \n",
       "9268                     5            40                   4   \n",
       "9269                    29            70                   0   \n",
       "9270                    22            80                   3   \n",
       "9271                     7            30                   9   \n",
       "9272                     8            40                   2   \n",
       "\n",
       "      Purchase_Intention  \n",
       "0                      1  \n",
       "1                      1  \n",
       "2                      0  \n",
       "3                      1  \n",
       "4                      1  \n",
       "...                  ...  \n",
       "9268                   0  \n",
       "9269                   1  \n",
       "9270                   1  \n",
       "9271                   1  \n",
       "9272                   0  \n",
       "\n",
       "[9273 rows x 4 columns]"
      ]
     },
     "execution_count": 22,
     "metadata": {},
     "output_type": "execute_result"
    }
   ],
   "source": [
    "use_cols = ['Browsing_Time (mins)', 'Discount (%)', 'Previous_Purchases', 'Purchase_Intention']\n",
    "\n",
    "df = df[use_cols]\n",
    "\n",
    "df"
   ]
  },
  {
   "cell_type": "code",
   "execution_count": 55,
   "id": "6ef0186d-7623-467a-a490-0070d5533728",
   "metadata": {},
   "outputs": [
    {
     "data": {
      "text/plain": [
       "6709"
      ]
     },
     "execution_count": 55,
     "metadata": {},
     "output_type": "execute_result"
    }
   ],
   "source": [
    "df[df.columns].duplicated().sum()"
   ]
  },
  {
   "cell_type": "code",
   "execution_count": 38,
   "id": "601a9293-b85e-4233-b589-382f4f1f5790",
   "metadata": {},
   "outputs": [
    {
     "data": {
      "text/plain": [
       "array([1, 1, 1, ..., 1, 1, 1], dtype=int64)"
      ]
     },
     "execution_count": 38,
     "metadata": {},
     "output_type": "execute_result"
    }
   ],
   "source": [
    "from sklearn.ensemble import RandomForestClassifier\n",
    "\n",
    "from sklearn.metrics import accuracy_score\n",
    "from sklearn.model_selection import train_test_split\n",
    "\n",
    "X = df.iloc[:, :-1].values\n",
    "y = df.iloc[:, -1].values\n",
    "\n",
    "X_train, X_test, y_train, y_test = train_test_split(X, y, test_size = 0.3)\n",
    "\n",
    "model = RandomForestClassifier(n_estimators = 250)\n",
    "\n",
    "model.fit(X_train, y_train)\n",
    "\n",
    "y_predicted = model.predict(X_test)\n",
    "\n",
    "y_predicted"
   ]
  },
  {
   "cell_type": "code",
   "execution_count": 39,
   "id": "6fa5bedc-fac6-42a7-90b9-e029245f2b66",
   "metadata": {},
   "outputs": [
    {
     "data": {
      "text/plain": [
       "1.0"
      ]
     },
     "execution_count": 39,
     "metadata": {},
     "output_type": "execute_result"
    }
   ],
   "source": [
    "accuracy_score(y_predicted, y_test)"
   ]
  },
  {
   "cell_type": "code",
   "execution_count": 40,
   "id": "6bf91d38-a848-4d50-bcb5-6c1e5ccbc025",
   "metadata": {},
   "outputs": [
    {
     "name": "stdout",
     "output_type": "stream",
     "text": [
      "Training Score:  1.0\n",
      "Testing Score:  1.0\n"
     ]
    }
   ],
   "source": [
    "print('Training Score: ', model.score(X_train, y_train))\n",
    "print('Testing Score: ', model.score(X_test, y_test))"
   ]
  },
  {
   "cell_type": "code",
   "execution_count": 41,
   "id": "4afc6098-21ee-45cb-adf3-9769da3b1589",
   "metadata": {},
   "outputs": [
    {
     "data": {
      "text/plain": [
       "array([1, 1, 1, ..., 1, 1, 1])"
      ]
     },
     "execution_count": 41,
     "metadata": {},
     "output_type": "execute_result"
    }
   ],
   "source": [
    "from xgboost import XGBClassifier\n",
    "from sklearn.metrics import accuracy_score\n",
    "from sklearn.model_selection import train_test_split\n",
    "\n",
    "X = df.iloc[:, :-1].values\n",
    "y = df.iloc[:, -1].values\n",
    "\n",
    "X_train, X_test, y_train, y_test = train_test_split(X, y, test_size = 0.3)\n",
    "\n",
    "model = XGBClassifier()\n",
    "\n",
    "model.fit(X_train, y_train)\n",
    "\n",
    "y_predicted = model.predict(X_test)\n",
    "\n",
    "y_predicted"
   ]
  },
  {
   "cell_type": "code",
   "execution_count": 42,
   "id": "3153b36c-950b-4131-bc6a-ade090e1f8a7",
   "metadata": {},
   "outputs": [
    {
     "data": {
      "text/plain": [
       "1.0"
      ]
     },
     "execution_count": 42,
     "metadata": {},
     "output_type": "execute_result"
    }
   ],
   "source": [
    "accuracy_score(y_predicted, y_test)"
   ]
  },
  {
   "cell_type": "code",
   "execution_count": 43,
   "id": "77e281e7-6a90-4676-b910-0ff21a204d66",
   "metadata": {},
   "outputs": [
    {
     "name": "stdout",
     "output_type": "stream",
     "text": [
      "Training Score:  1.0\n",
      "Testing Score:  1.0\n"
     ]
    }
   ],
   "source": [
    "print('Training Score: ', model.score(X_train, y_train))\n",
    "print('Testing Score: ', model.score(X_test, y_test))"
   ]
  },
  {
   "cell_type": "code",
   "execution_count": null,
   "id": "431a4c52-c3de-484a-9283-e77c1a4cba07",
   "metadata": {},
   "outputs": [],
   "source": []
  }
 ],
 "metadata": {
  "kernelspec": {
   "display_name": "Python 3 (ipykernel)",
   "language": "python",
   "name": "python3"
  },
  "language_info": {
   "codemirror_mode": {
    "name": "ipython",
    "version": 3
   },
   "file_extension": ".py",
   "mimetype": "text/x-python",
   "name": "python",
   "nbconvert_exporter": "python",
   "pygments_lexer": "ipython3",
   "version": "3.12.1"
  },
  "widgets": {
   "application/vnd.jupyter.widget-state+json": {
    "state": {},
    "version_major": 2,
    "version_minor": 0
   }
  }
 },
 "nbformat": 4,
 "nbformat_minor": 5
}
